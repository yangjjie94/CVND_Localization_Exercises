{
 "cells": [
  {
   "cell_type": "markdown",
   "metadata": {},
   "source": [
    "# Robot Sensors\n",
    "\n",
    "A robot senses the world through cameras and other sensors, but these sensors are not perfectly accurate. In the video, you saw an example of a robot in a 1D world made of colored grid cells; all cells were either green or red. The robot then sensed that it was in a red grid cell. \n",
    "\n",
    "The probability that this reading was accurate, which we'll call the prbability that the sensor has hit its target, `pHit`, was `0.6` and the probability that this reading was inaccurate (the sensor has missed its target) and the robot was *actually* in a green cell was `pMiss` equal to `0.2`.\n",
    "\n",
    "In this notebook, let's go through how this works step by step."
   ]
  },
  {
   "cell_type": "markdown",
   "metadata": {},
   "source": [
    "### Uniform Distribution\n",
    "\n",
    "The robot starts with a map with a length of 5 cells. Since the robot does not know where it is at first, the probability of being in any space is the same; a uniform distribution!\n"
   ]
  },
  {
   "cell_type": "code",
   "execution_count": 1,
   "metadata": {
    "collapsed": true
   },
   "outputs": [],
   "source": [
    "# importing resources\n",
    "import matplotlib.pyplot as plt\n",
    "import numpy as np"
   ]
  },
  {
   "cell_type": "code",
   "execution_count": 2,
   "metadata": {
    "collapsed": true
   },
   "outputs": [],
   "source": [
    "# ex. initialize_robot(5) = [0.2, 0.2, 0.2, 0.2, 0.2]\n",
    "def initialize_robot(grid_length):\n",
    "    ''' Takes in a grid length and returns \n",
    "       a uniform distribution of location probabilities'''\n",
    "    \n",
    "    p = []\n",
    "    \n",
    "    # create a list that has the value of 1/grid_length for each cell\n",
    "    for i in range(grid_length):\n",
    "        p.append(1.0/grid_length)\n",
    "        \n",
    "    return p"
   ]
  },
  {
   "cell_type": "markdown",
   "metadata": {},
   "source": [
    "I'll also include a helper function for visualizing this distribution. The below function, `display_map` will output a bar chart showing the probability that a robot is in each grid space. The y-axis has a range of 0 to 1 for the range of probabilities. For a uniform distribution, this will look like a flat line. You can choose the width of each bar to be <= 1 should you want to space these out. "
   ]
  },
  {
   "cell_type": "code",
   "execution_count": 3,
   "metadata": {
    "collapsed": true
   },
   "outputs": [],
   "source": [
    "def display_map(grid, bar_width=1):\n",
    "    if(len(grid) > 0):\n",
    "        x_labels = range(len(grid))\n",
    "        plt.bar(x_labels, height=grid, width=bar_width, color='b')\n",
    "        plt.xlabel('Grid Cell')\n",
    "        plt.ylabel('Probability')\n",
    "        plt.ylim(0, 1) # range of 0-1 for probability values \n",
    "        plt.title('Probability of the robot being at each cell in the grid')\n",
    "        plt.xticks(np.arange(min(x_labels), max(x_labels)+1, 1))\n",
    "        plt.show()\n",
    "    else:\n",
    "        print('Grid is empty')\n"
   ]
  },
  {
   "cell_type": "code",
   "execution_count": 4,
   "metadata": {},
   "outputs": [
    {
     "data": {
      "image/png": "[encoded data removed]",
      "text/plain": [
       "<matplotlib.figure.Figure at 0x10fae8f60>"
      ]
     },
     "metadata": {},
     "output_type": "display_data"
    }
   ],
   "source": [
    "# initialize a 5 cell, 1D world\n",
    "p = initialize_robot(5)\n",
    "display_map(p)"
   ]
  },
  {
   "cell_type": "markdown",
   "metadata": {},
   "source": [
    "### Probability After Sense\n",
    "\n",
    "Then the robot senses that it is in a red cell, and updates its probabilities. As per our example:\n",
    "\n",
    "* The probability that it is sensing the correct color is `pHit = 0.6`.\n",
    "* The probability that it is sensing the incorrect color (in this case: seeing red but *actually* in a green cell) is `pMiss = 0.2`\n",
    "\n",
    "<img src='images/robot_sensing.png' width=50% height=50% />\n",
    "\n",
    "#### Next, we write code that outputs a new grid, `p`, after multiplying each entry by pHit or pMiss at the appropriate places. \n",
    "\n",
    "Remember that the red cells (cell 1 and 2) are \"hits\" and the other green cells are \"misses.\"\n",
    "\n",
    "Note that you may see values that are not exact due to how machines imperfectly represent floating points."
   ]
  },
  {
   "cell_type": "code",
   "execution_count": 20,
   "metadata": {},
   "outputs": [
    {
     "name": "stdout",
     "output_type": "stream",
     "text": [
      "[0.04000000000000001, 0.12, 0.12, 0.04000000000000001, 0.04000000000000001]\n"
     ]
    },
    {
     "data": {
      "image/png": "[encoded data removed]",
      "text/plain": [
       "<matplotlib.figure.Figure at 0x10f71e9e8>"
      ]
     },
     "metadata": {},
     "output_type": "display_data"
    }
   ],
   "source": [
    "# given initial variables\n",
    "p = initialize_robot(5)\n",
    "pHit  = 0.6\n",
    "pMiss = 0.2\n",
    "\n",
    "# Creates a new grid, with modified probabilities, after sensing\n",
    "# All values are calculated by a product of 1. the sensing probability for a color (pHit for red)\n",
    "# and 2. the current probability of a robot being in that location p[i]; all equal to 0.2 at first.\n",
    "p[0] = p[0]*pMiss\n",
    "p[1] = p[1]*pHit\n",
    "p[2] = p[2]*pHit\n",
    "p[3] = p[3]*pMiss\n",
    "p[4] = p[4]*pMiss\n",
    "\n",
    "print(p)\n",
    "display_map(p)"
   ]
  },
  {
   "cell_type": "markdown",
   "metadata": {},
   "source": [
    "You should see that the red grid cells (1 and 2) have a higher probability than the green cells. One thing that may look strange is how low these probability bars are, and you may have noticed that these don't accurately represent a probability distribution because the components of this list do not add up to 1!\n",
    "\n",
    "### QUIZ: Compute the sum of all of these probabilities.\n",
    "\n",
    "What do these values add up to and how do you think we can turn this into a probability distribution whose components do add up to 1? \n",
    "\n",
    "In the next code cell, write code to sum up the values in the new world, `p`."
   ]
  },
  {
   "cell_type": "code",
   "execution_count": 22,
   "metadata": {
    "collapsed": true
   },
   "outputs": [],
   "source": [
    "# What is the sum of all the values in p?\n",
    "\n",
    "## TODO: add up all the values in the list of location probabilities to determine the answer\n"
   ]
  }
 ],
 "metadata": {
  "kernelspec": {
   "display_name": "Python 3",
   "language": "python",
   "name": "python3"
  },
  "language_info": {
   "codemirror_mode": {
    "name": "ipython",
    "version": 3
   },
   "file_extension": ".py",
   "mimetype": "text/x-python",
   "name": "python",
   "nbconvert_exporter": "python",
   "pygments_lexer": "ipython3",
   "version": "3.6.2"
  }
 },
 "nbformat": 4,
 "nbformat_minor": 2
}
